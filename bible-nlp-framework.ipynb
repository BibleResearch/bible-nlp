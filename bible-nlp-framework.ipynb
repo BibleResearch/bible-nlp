{
 "cells": [
  {
   "cell_type": "code",
   "execution_count": null,
   "metadata": {
    "collapsed": true
   },
   "outputs": [],
   "source": [
    "import operator\n",
    "\n",
    "from lxml import etree\n",
    "import textblob"
   ]
  },
  {
   "cell_type": "code",
   "execution_count": null,
   "metadata": {
    "collapsed": true
   },
   "outputs": [],
   "source": [
    "BOOK_OF_BIBLE = \"Genesis\"\n",
    "BIBLE_TRANSLATION = \"./data/NASB.xmm\"\n",
    "\n",
    "book_string = str()"
   ]
  },
  {
   "cell_type": "code",
   "execution_count": null,
   "metadata": {
    "collapsed": true
   },
   "outputs": [],
   "source": [
    "root = etree.parse(BIBLE_TRANSLATION)"
   ]
  },
  {
   "cell_type": "code",
   "execution_count": null,
   "metadata": {
    "collapsed": false
   },
   "outputs": [],
   "source": [
    "book_xml = root.xpath(\"//b[@n='{}']\".format(BOOK_OF_BIBLE))"
   ]
  },
  {
   "cell_type": "code",
   "execution_count": null,
   "metadata": {
    "collapsed": false
   },
   "outputs": [],
   "source": [
    "for element in book_xml[0].iter():\n",
    "    if (element.tag == 'b'):  # print the book title\n",
    "        print(\"{}\\n\".format(element.values()[0]))\n",
    "    elif (element.tag == 'c'):  # print each chapter\n",
    "        print(\"Chapter {}\".format(element.values()[0]))\n",
    "    else:  # record each verse\n",
    "        book_string += \" {}\".format(element.text)"
   ]
  },
  {
   "cell_type": "code",
   "execution_count": null,
   "metadata": {
    "collapsed": true
   },
   "outputs": [],
   "source": [
    "def _get_noun_phrases(noun_phrases, n=10):\n",
    "    \"\"\"Get the most common, n noun phrases.\"\"\"\n",
    "    noun_phrase_count = dict()\n",
    "\n",
    "    for noun_phrase in noun_phrases:\n",
    "        if noun_phrase_count.get(noun_phrase):\n",
    "            noun_phrase_count[noun_phrase] += 1\n",
    "        else:\n",
    "            noun_phrase_count[noun_phrase] = 1\n",
    "\n",
    "    # sort the noun_phrases by occurence (in descending order)\n",
    "    sorted_noun_phrase_count = sorted(noun_phrase_count.items(), key=operator.itemgetter(1), reverse=True)\n",
    "\n",
    "    return sorted_noun_phrase_count[:n]\n",
    "\n",
    "\n",
    "def full_report(bible_blob):\n",
    "    \"\"\"Output a report for the given text blob.\"\"\"\n",
    "    bible_blob.sentiment\n",
    "\n",
    "    sorted_noun_phrases = _get_noun_phrases(bible_blob.noun_phrases)\n",
    "\n",
    "    print(\"# NLP Analysis for {} (using the {} translation)\\n\".format(BOOK_OF_BIBLE.capitalize(), BIBLE_TRANSLATION.split(\"/\")[-1].split(\".\")[0]))\n",
    "\n",
    "    print(\"## Sentiment\\n\")\n",
    "    print(\"Polarity†: {}\\n\".format(round(t.sentiment.polarity, 5)))\n",
    "    print(\"Subjectivity‡: {}\".format(round(t.sentiment.subjectivity, 5)))\n",
    "\n",
    "    print(\"\\n\")\n",
    "\n",
    "    print(\"## Most Common Noun Phrases in {}:\\n\".format(BOOK_OF_BIBLE.capitalize()))\n",
    "    for noun_phrase in sorted_noun_phrases:\n",
    "        print(\" * {}\\t-  {}\".format(noun_phrase[1], noun_phrase[0]))\n",
    "\n",
    "    print(\"\\n\")\n",
    "\n",
    "    print(\"† Polarity is measured on a scale of [-1.0, 1.0] and measures whether that language used by the author is negative, nuetral, or positive.\\n\")\n",
    "    print(\"‡ Subjectivity is measured on a scale of [0.0, 1.0] and measures how subjective the text is (0.0 being very objective; 1.0 being very subjective).\")"
   ]
  },
  {
   "cell_type": "code",
   "execution_count": null,
   "metadata": {
    "collapsed": false
   },
   "outputs": [],
   "source": [
    "t = textblob.TextBlob(book_string)\n",
    "full_report(t)"
   ]
  }
 ],
 "metadata": {
  "kernelspec": {
   "display_name": "Python 3",
   "language": "python",
   "name": "python3"
  },
  "language_info": {
   "codemirror_mode": {
    "name": "ipython",
    "version": 3
   },
   "file_extension": ".py",
   "mimetype": "text/x-python",
   "name": "python",
   "nbconvert_exporter": "python",
   "pygments_lexer": "ipython3",
   "version": "3.4.3"
  }
 },
 "nbformat": 4,
 "nbformat_minor": 1
}
