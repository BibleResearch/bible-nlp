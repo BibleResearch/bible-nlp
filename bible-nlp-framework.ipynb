{
 "cells": [
  {
   "cell_type": "code",
   "execution_count": null,
   "metadata": {
    "collapsed": true
   },
   "outputs": [],
   "source": [
    "import collections\n",
    "import operator\n",
    "import os\n",
    "\n",
    "from lxml import etree\n",
    "import textblob"
   ]
  },
  {
   "cell_type": "code",
   "execution_count": null,
   "metadata": {
    "collapsed": false
   },
   "outputs": [],
   "source": [
    "# All paths should be specified from the current directory\n",
    "BOOK_OF_BIBLE = \"All\"\n",
    "XML_FILE = \"data/NASB.xmm\"\n",
    "OUTPUT_TO_FILE = True\n",
    "OUTPUT_FILE_PATH = \"output/\"\n",
    "BIBLE_TRANSLATION = XML_FILE.split(\"/\")[-1].split(\".\")[0]\n",
    "\n",
    "book_strings = collections.OrderedDict()\n",
    "readme_string = \"# {} NLP Reports\\n\\n\".format(BIBLE_TRANSLATION)"
   ]
  },
  {
   "cell_type": "code",
   "execution_count": null,
   "metadata": {
    "collapsed": true
   },
   "outputs": [],
   "source": [
    "root = etree.parse(XML_FILE)"
   ]
  },
  {
   "cell_type": "code",
   "execution_count": null,
   "metadata": {
    "collapsed": true
   },
   "outputs": [],
   "source": [
    "if BOOK_OF_BIBLE == \"\" or BOOK_OF_BIBLE.lower() == \"all\":\n",
    "    book_xml = root.xpath(\"//b\")\n",
    "else:\n",
    "    book_xml = root.xpath(\"//b[@n='{}']\".format(BOOK_OF_BIBLE))"
   ]
  },
  {
   "cell_type": "code",
   "execution_count": null,
   "metadata": {
    "collapsed": false
   },
   "outputs": [],
   "source": [
    "for book in book_xml:\n",
    "    book_strings[book.values()[0]] = str()\n",
    "    for chapter in book:\n",
    "        for verse in chapter:\n",
    "            book_strings[book.values()[0]] += \" {}\".format(verse.text)"
   ]
  },
  {
   "cell_type": "code",
   "execution_count": null,
   "metadata": {
    "collapsed": false
   },
   "outputs": [],
   "source": [
    "def _get_noun_phrases(noun_phrases, n=10):\n",
    "    \"\"\"Get the most common, n noun phrases.\"\"\"\n",
    "    noun_phrase_count = dict()\n",
    "\n",
    "    for noun_phrase in noun_phrases:\n",
    "        if noun_phrase_count.get(noun_phrase):\n",
    "            noun_phrase_count[noun_phrase] += 1\n",
    "        else:\n",
    "            noun_phrase_count[noun_phrase] = 1\n",
    "\n",
    "    # sort the noun_phrases by occurrence (in descending order)\n",
    "    sorted_noun_phrase_count = sorted(noun_phrase_count.items(), key=operator.itemgetter(1), reverse=True)\n",
    "\n",
    "    return sorted_noun_phrase_count[:n]\n",
    "\n",
    "\n",
    "def full_report(bible_blob, book_of_bible):\n",
    "    \"\"\"Output a report for the given text blob.\"\"\"\n",
    "    global readme_string\n",
    "\n",
    "    sorted_noun_phrases = _get_noun_phrases(bible_blob.noun_phrases)\n",
    "\n",
    "    output_string = \"# NLP Analysis for {} (using the {} translation)\\n\\n\".format(book_of_bible.capitalize(), BIBLE_TRANSLATION)\n",
    "\n",
    "    output_string += \"## Sentiment\\n\\n\"\n",
    "    output_string += \"Polarity†: {}\\n\\n\".format(round(bible_blob.sentiment.polarity, 5))\n",
    "    output_string += \"Subjectivity‡: {}\".format(round(bible_blob.sentiment.subjectivity, 5))\n",
    "\n",
    "    output_string += \"\\n\\n\"\n",
    "\n",
    "    output_string += \"## Most Common Noun Phrases in {}:\\n\\n\".format(book_of_bible.capitalize())\n",
    "    for noun_phrase in sorted_noun_phrases:\n",
    "        output_string += \" * {}\\t-  {}\\n\".format(noun_phrase[1], noun_phrase[0])\n",
    "\n",
    "    output_string += \"\\n\\n\"\n",
    "\n",
    "    output_string += \"† Polarity is measured on a scale of [-1.0, 1.0] and measures whether that language used by the author is negative, neutral, or positive.\\n\\n\"\n",
    "    output_string += \"‡ Subjectivity is measured on a scale of [0.0, 1.0] and measures how subjective the text is (0.0 being very objective; 1.0 being very subjective).\"\n",
    "    \n",
    "    if OUTPUT_TO_FILE:\n",
    "        with open(os.path.join(os.path.join(os.getcwd(), OUTPUT_FILE_PATH), '{}/{}_{}.md'.format(BIBLE_TRANSLATION, book_of_bible, BIBLE_TRANSLATION)), 'w+') as f:\n",
    "            f.write(output_string)\n",
    "            f.close()\n",
    "        print(\"Wrote {}\".format(book_of_bible))\n",
    "        readme_string += \"- [{}]({})\\n\".format(book_of_bible, '{}_{}.md'.format(book_of_bible, BIBLE_TRANSLATION))\n",
    "    else:\n",
    "        print(output_string)"
   ]
  },
  {
   "cell_type": "code",
   "execution_count": null,
   "metadata": {
    "collapsed": false
   },
   "outputs": [],
   "source": [
    "for book in book_strings:\n",
    "    t = textblob.TextBlob(book_strings[book])\n",
    "    full_report(t, book)"
   ]
  },
  {
   "cell_type": "code",
   "execution_count": null,
   "metadata": {
    "collapsed": false
   },
   "outputs": [],
   "source": [
    "with open(os.path.join(os.path.join(os.getcwd(), OUTPUT_FILE_PATH), '{}/README.md'.format(BIBLE_TRANSLATION)), 'w+') as f:\n",
    "    f.write(readme_string)\n",
    "    f.close()"
   ]
  }
 ],
 "metadata": {
  "kernelspec": {
   "display_name": "Python 3",
   "language": "python",
   "name": "python3"
  },
  "language_info": {
   "codemirror_mode": {
    "name": "ipython",
    "version": 3
   },
   "file_extension": ".py",
   "mimetype": "text/x-python",
   "name": "python",
   "nbconvert_exporter": "python",
   "pygments_lexer": "ipython3",
   "version": "3.4.3"
  }
 },
 "nbformat": 4,
 "nbformat_minor": 1
}
